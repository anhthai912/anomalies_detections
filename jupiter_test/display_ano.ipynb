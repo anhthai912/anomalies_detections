{
 "cells": [
  {
   "cell_type": "code",
   "execution_count": 1,
   "metadata": {},
   "outputs": [
    {
     "ename": "ModuleNotFoundError",
     "evalue": "No module named 'mod'",
     "output_type": "error",
     "traceback": [
      "\u001b[1;31m---------------------------------------------------------------------------\u001b[0m",
      "\u001b[1;31mModuleNotFoundError\u001b[0m                       Traceback (most recent call last)",
      "Cell \u001b[1;32mIn[1], line 2\u001b[0m\n\u001b[0;32m      1\u001b[0m \u001b[38;5;28;01mimport\u001b[39;00m \u001b[38;5;21;01mcv2\u001b[39;00m\n\u001b[1;32m----> 2\u001b[0m \u001b[38;5;28;01mfrom\u001b[39;00m \u001b[38;5;21;01mmod\u001b[39;00m \u001b[38;5;28;01mimport\u001b[39;00m coor_check, sort_ano, read_anomalies, get_ano_info, play_ano, process_ano\n",
      "\u001b[1;31mModuleNotFoundError\u001b[0m: No module named 'mod'"
     ]
    }
   ],
   "source": [
    "import cv2\n",
    "from mod import coor_check, sort_ano, read_anomalies, get_ano_info, play_ano, process_ano"
   ]
  },
  {
   "cell_type": "code",
   "execution_count": 2,
   "metadata": {},
   "outputs": [],
   "source": [
    "# vid_no = 51\n",
    "def read_anomalies(vid_no):\n",
    "  text_file = open(f\"D:\\\\bi12year3\\intern\\ictlab\\imgonnacrylmao\\\\results\\Output{vid_no}_anomalies.txt\", \"r\")\n",
    "  lines = text_file.readlines()\n",
    "  no_anomalies = int(lines[-1][20:])\n",
    "\n",
    "  ano = {}\n",
    "\n",
    "  for i in range(no_anomalies):\n",
    "      line = lines[i]\n",
    "      line = line.strip().strip('()')\n",
    "      key, value = line.split(',', 1)\n",
    "      key = int(key.strip())\n",
    "      value = eval(value.strip())\n",
    "      \n",
    "      # Assign the key-value pair to the dictionary\n",
    "      ano[key] = value\n",
    "  return ano\n",
    "\n",
    "# anomailes = read_anomalies(vid_no)\n",
    "\n",
    "# for i in anomailes.items():\n",
    "#     print(i)"
   ]
  },
  {
   "cell_type": "code",
   "execution_count": null,
   "metadata": {},
   "outputs": [],
   "source": []
  },
  {
   "cell_type": "code",
   "execution_count": 3,
   "metadata": {},
   "outputs": [],
   "source": [
    "\n",
    "def sort_ano(anomailes: dict):\n",
    "    ano = {}\n",
    "    anomailes_cop = anomailes.copy()\n",
    "\n",
    "    for ano_id1 in anomailes.keys():\n",
    "        if ano_id1 in anomailes_cop.keys():\n",
    "            x1, y1 = anomailes[ano_id1][:-3]\n",
    "            start1 = anomailes[ano_id1][-2]\n",
    "            end1 = anomailes[ano_id1][-1]\n",
    "            ano[ano_id1] = [x1, y1, start1, end1]\n",
    "            temp = []\n",
    "            for ano_id2 in anomailes_cop.keys():\n",
    "                if ano_id1 == ano_id2:\n",
    "                    pass\n",
    "                else:\n",
    "                    x2, y2 = anomailes[ano_id2][:-3]\n",
    "                    start2 = anomailes[ano_id2][-2]\n",
    "                    end2 = anomailes[ano_id2][-1]\n",
    "\n",
    "                    if coor_check(x1, y1, x2, y2, errors= 1):\n",
    "                        ano[ano_id1] = [x1, y1, start1, end2]\n",
    "                        temp.append(ano_id2)\n",
    "            for i in temp:\n",
    "                anomailes_cop.pop(i)  \n",
    "    return ano\n",
    "\n",
    "# sorted_anomalies = sort_ano(anomailes)\n"
   ]
  },
  {
   "cell_type": "code",
   "execution_count": 4,
   "metadata": {},
   "outputs": [],
   "source": [
    "def get_ano_info(anomailes: dict, id):\n",
    "    # print(anomailes[id])\n",
    "    x, y = anomailes[id][:-2]\n",
    "    start = anomailes[id][-2]\n",
    "    end = anomailes[id][-1]\n",
    "    return x, y, start, end\n",
    "\n",
    "# for i in sorted_anomalies:\n",
    "#     a = get_ano_info(sorted_anomalies, i)\n",
    "#     print(a)\n"
   ]
  },
  {
   "cell_type": "code",
   "execution_count": 12,
   "metadata": {},
   "outputs": [],
   "source": [
    "def display_ano(vid_no, ano_data):\n",
    "  x, y, start, end = ano_data\n",
    "  cap = cv2.VideoCapture(f\"C:\\\\Users\\\\ADMIN\\\\Desktop\\\\AIC21-Track4-Anomaly-Detection_full\\\\AIC21-Track4-Anomaly-Detection\\\\aic21-track4-train-data\\\\{vid_no}.mp4\")\n",
    "\n",
    "\n",
    "  # Check if camera opened successfully\n",
    "  if (cap.isOpened()== False): \n",
    "    print(\"Error opening video stream or file\")\n",
    "\n",
    "  # Set the starting frame\n",
    "  cap.set(cv2.CAP_PROP_POS_FRAMES, start[0])\n",
    "  fps = 30\n",
    "  # Read until video is completed\n",
    "  while(cap.isOpened()):\n",
    "    # Capture frame-by-frame\n",
    "    ret, frame = cap.read()\n",
    "\n",
    "    current_frame = int(cap.get(cv2.CAP_PROP_POS_FRAMES))\n",
    "\n",
    "    if current_frame > end[0]:\n",
    "        break\n",
    "\n",
    "    timer = int(round(current_frame/fps, 0))\n",
    "    if ret == True:\n",
    "      # Display the resulting frame\n",
    "      frame = cv2.putText(frame, '.', \n",
    "                          org= (x, y), \n",
    "                          fontFace= cv2.FONT_HERSHEY_COMPLEX,\n",
    "                          fontScale= 1, \n",
    "                          color= (0, 0, 255), \n",
    "                          thickness= 2)\n",
    "      \n",
    "      frame = cv2.putText(frame, f'time: {timer}', \n",
    "                          org= (20, 50), \n",
    "                          fontFace= cv2.FONT_HERSHEY_COMPLEX,\n",
    "                          fontScale= 1, \n",
    "                          color= (0, 255, 0), \n",
    "                          thickness= 1)\n",
    "\n",
    "      cv2.imshow(f'frame{vid_no}',frame)\n",
    "  \n",
    "      # Press Q on keyboard to  exit\n",
    "      if cv2.waitKey(25) & 0xFF == ord('q'):\n",
    "        break\n",
    "      \n",
    "      # Break the loop\n",
    "      # else: \n",
    "      #   break\n",
    "\n",
    "  \n",
    "  # When everything done, release the video capture object\n",
    "  cap.release()\n",
    "  \n",
    "  # Closes all the frames\n",
    "  cv2.destroyAllWindows()"
   ]
  },
  {
   "cell_type": "code",
   "execution_count": 6,
   "metadata": {},
   "outputs": [],
   "source": [
    "# print(sorted_anomalies)\n",
    "# for i in sorted_anomalies:\n",
    "#     display_ano(vid_no, get_ano_info(sorted_anomalies, i))\n",
    "    "
   ]
  },
  {
   "cell_type": "code",
   "execution_count": 2,
   "metadata": {},
   "outputs": [],
   "source": [
    "def process_ano(vid_no):\n",
    "    return sort_ano(anomailes= read_anomalies(vid_no))\n",
    "\n",
    "def play_ano(vid_no, sorted_ano: dict):\n",
    "    print(\"Number of anomalies: \", len(sorted_ano.keys()) )\n",
    "    for i, ano_id in enumerate(sorted_ano.items()):\n",
    "        print(f\"Anomaly {i+1}\")\n",
    "        print(ano_id)\n",
    "        display_ano(vid_no, get_ano_info(sorted_ano, ano_id[0]))"
   ]
  },
  {
   "cell_type": "code",
   "execution_count": 6,
   "metadata": {},
   "outputs": [],
   "source": [
    "def display_ano(vid_no, ano_data):\n",
    "    coors, start, end = ano_data\n",
    "    cap = cv2.VideoCapture(f\"C:\\\\Users\\\\ADMIN\\\\Desktop\\\\AIC21-Track4-Anomaly-Detection_full\\\\AIC21-Track4-Anomaly-Detection\\\\aic21-track4-train-data\\\\{vid_no}.mp4\")\n",
    "    x1, x2, y1, y2 = coors\n",
    "    \n",
    "    # Check if camera opened successfully\n",
    "    if (cap.isOpened()== False): \n",
    "        print(\"Error opening video stream or file\")\n",
    "    fps = 30\n",
    "    # Set the starting frame\n",
    "    cap.set(cv2.CAP_PROP_POS_FRAMES, start[0])\n",
    "    # Read until video is completed\n",
    "    while(cap.isOpened()):\n",
    "    # Capture frame-by-frame\n",
    "        ret, frame = cap.read()\n",
    "\n",
    "        current_frame = int(cap.get(cv2.CAP_PROP_POS_FRAMES))\n",
    "        \n",
    "        if current_frame > end[0]:\n",
    "            break\n",
    "\n",
    "        timer = int(round(current_frame/fps, 0))\n",
    "\n",
    "        if ret == True:\n",
    "            # Display the resulting frame\n",
    "            frame = cv2.rectangle(frame, \n",
    "                                pt1=(x1, x2), \n",
    "                                pt2= (y1, y2),  \n",
    "                                color= (0, 0, 255), thickness= 2)\n",
    "            \n",
    "            frame = cv2.putText(frame, f'time: {timer}', \n",
    "                          org= (20, 50), \n",
    "                          fontFace= cv2.FONT_HERSHEY_COMPLEX,\n",
    "                          fontScale= 1, \n",
    "                          color= (0, 255, 0), \n",
    "                          thickness= 1)\n",
    "\n",
    "            cv2.imshow(f'frame{vid_no}',frame)\n",
    "\n",
    "            # Press Q on keyboard to  exit\n",
    "            if cv2.waitKey(25) & 0xFF == ord('q'):\n",
    "                break\n",
    "        \n",
    "        # Break the loop\n",
    "        # else: \n",
    "        #   break\n",
    "\n",
    "\n",
    "    # When everything done, release the video capture object\n",
    "    cap.release()\n",
    "\n",
    "    # Closes all the frames\n",
    "    cv2.destroyAllWindows()"
   ]
  },
  {
   "cell_type": "code",
   "execution_count": 5,
   "metadata": {},
   "outputs": [
    {
     "data": {
      "text/plain": [
       "{179: [[6, 95, 44, 117], [914, 30], [26399, 880]],\n",
       " 539: [[5, 96, 43, 113], [2218, 74], [16497, 550]],\n",
       " 5067: [[634, 78, 649, 88], [18770, 626], [26819, 894]],\n",
       " 5200: [[585, 94, 604, 109], [19276, 643], [26819, 894]]}"
      ]
     },
     "execution_count": 5,
     "metadata": {},
     "output_type": "execute_result"
    }
   ],
   "source": [
    "vid_no = 2\n",
    "# print(read_anomalies(vid_no))\n",
    "# print(\"************************\")\n",
    "# hihi = sort_ano(read_anomalies(vid_no))\n",
    "# print(len(hihi.items()))\n",
    "# hihi\n",
    "process_ano(vid_no)\n",
    "# print(process_ano(vid_no))\n",
    "\n"
   ]
  },
  {
   "cell_type": "code",
   "execution_count": null,
   "metadata": {},
   "outputs": [],
   "source": [
    "play_ano(vid_no, process_ano(vid_no))"
   ]
  }
 ],
 "metadata": {
  "kernelspec": {
   "display_name": "Python 3",
   "language": "python",
   "name": "python3"
  },
  "language_info": {
   "codemirror_mode": {
    "name": "ipython",
    "version": 3
   },
   "file_extension": ".py",
   "mimetype": "text/x-python",
   "name": "python",
   "nbconvert_exporter": "python",
   "pygments_lexer": "ipython3",
   "version": "3.11.5"
  }
 },
 "nbformat": 4,
 "nbformat_minor": 2
}
