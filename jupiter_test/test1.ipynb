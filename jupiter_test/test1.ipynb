{
 "cells": [
  {
   "cell_type": "code",
   "execution_count": 3,
   "metadata": {},
   "outputs": [],
   "source": [
    "import sys\n",
    "\n",
    "sys.path.insert(0, 'D:\\\\bi12year3\\intern\\ictlab\\imgonnacrylmao')\n",
    "from mod import PATHS, CONFIG, process_ano, read_anomalies, sort_ano\n",
    "from get_eval import run_weights, TRUE_VID\n",
    "import multithreading\n",
    "import os\n",
    "import matplotlib.pyplot as plt\n",
    "import numpy as np\n",
    "from sklearn.metrics import ConfusionMatrixDisplay"
   ]
  },
  {
   "cell_type": "code",
   "execution_count": 4,
   "metadata": {},
   "outputs": [],
   "source": [
    "iter_range = list(range(1,301))\n",
    "iter_min_time = list(range(1,201))\n",
    "mode = \"train\"\n",
    "pre_path = \"D:\\\\bi12year3\\intern\\gpu_slaves\\\\bau\\\\\""
   ]
  },
  {
   "cell_type": "code",
   "execution_count": 4,
   "metadata": {},
   "outputs": [
    {
     "name": "stdout",
     "output_type": "stream",
     "text": [
      "[0.5251310681172384, [279, 200], 0.4285338376371229, array([[17,  0],\n",
      "       [ 3,  0]], dtype=int64)]\n"
     ]
    }
   ],
   "source": [
    "# 2m16.7s\n",
    "print(max(run_weights(iter_range, iter_min_time, mode, pre_path)))"
   ]
  },
  {
   "cell_type": "code",
   "execution_count": 6,
   "metadata": {},
   "outputs": [
    {
     "name": "stdout",
     "output_type": "stream",
     "text": [
      "number of processes:  7\n",
      "[0.5251310681172384, [279, 200], 0.4285338376371229, array([[17,  0],\n",
      "       [ 3,  0]], dtype=int64)]\n"
     ]
    }
   ],
   "source": [
    "super_args = (iter_range, iter_min_time, mode, pre_path)\n",
    "\n",
    "# 59.3, batch_sz = 16\n",
    "# 57.5 batch_sz =32\n",
    "result = multithreading.threader(run_weights, iter_min_time, super_args, 32)\n",
    "\n",
    "print(max(result))"
   ]
  }
 ],
 "metadata": {
  "kernelspec": {
   "display_name": "Python 3",
   "language": "python",
   "name": "python3"
  },
  "language_info": {
   "codemirror_mode": {
    "name": "ipython",
    "version": 3
   },
   "file_extension": ".py",
   "mimetype": "text/x-python",
   "name": "python",
   "nbconvert_exporter": "python",
   "pygments_lexer": "ipython3",
   "version": "3.11.5"
  }
 },
 "nbformat": 4,
 "nbformat_minor": 2
}
