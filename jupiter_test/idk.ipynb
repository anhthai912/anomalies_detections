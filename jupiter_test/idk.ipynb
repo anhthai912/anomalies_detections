{
 "cells": [
  {
   "cell_type": "code",
   "execution_count": 1,
   "metadata": {},
   "outputs": [],
   "source": [
    "import sys\n",
    "\n",
    "sys.path.insert(0, 'D:\\\\bi12year3\\intern\\ictlab\\imgonnacrylmao')\n",
    "import get_eval, mod\n",
    "import matplotlib.pyplot as plt\n",
    "import numpy as np"
   ]
  },
  {
   "cell_type": "code",
   "execution_count": 2,
   "metadata": {},
   "outputs": [],
   "source": [
    "hello = get_eval.run_weights(\n",
    "    iter_range= 300,\n",
    "    iter_min_time= 100,\n",
    "    mode= \"train\",\n",
    "    predicted_path= \"D:\\\\bi12year3\\intern\\gpu_slaves\\\\bau\\\\\"\n",
    ")\n",
    "constant_hello = hello.copy()\n",
    "sorted_hello = sorted(hello)"
   ]
  },
  {
   "cell_type": "code",
   "execution_count": 4,
   "metadata": {},
   "outputs": [
    {
     "data": {
      "text/plain": [
       "[0.2331012080578467,\n",
       " [54, 30],\n",
       " 0.6434922700291756,\n",
       " array([[17,  0],\n",
       "        [18,  0]], dtype=int64)]"
      ]
     },
     "execution_count": 4,
     "metadata": {},
     "output_type": "execute_result"
    }
   ],
   "source": [
    "max(hello)"
   ]
  }
 ],
 "metadata": {
  "kernelspec": {
   "display_name": "Python 3",
   "language": "python",
   "name": "python3"
  },
  "language_info": {
   "codemirror_mode": {
    "name": "ipython",
    "version": 3
   },
   "file_extension": ".py",
   "mimetype": "text/x-python",
   "name": "python",
   "nbconvert_exporter": "python",
   "pygments_lexer": "ipython3",
   "version": "3.11.5"
  }
 },
 "nbformat": 4,
 "nbformat_minor": 2
}
