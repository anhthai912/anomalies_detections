{
 "cells": [
  {
   "cell_type": "code",
   "execution_count": 1,
   "metadata": {},
   "outputs": [],
   "source": [
    "import sys\n",
    "\n",
    "sys.path.insert(0, 'D:\\\\bi12year3\\intern\\ictlab\\imgonnacrylmao')\n",
    "import get_eval, mod\n",
    "import matplotlib.pyplot as plt\n",
    "import numpy as np\n",
    "from sklearn.metrics import ConfusionMatrixDisplay"
   ]
  },
  {
   "cell_type": "code",
   "execution_count": 2,
   "metadata": {},
   "outputs": [],
   "source": [
    "hello = get_eval.run_weights(\n",
    "    iter_range= 300,\n",
    "    iter_min_time= 200,\n",
    "    mode= \"train\",\n",
    "    predicted_path= \"D:\\\\bi12year3\\intern\\gpu_slaves\\\\bau\\\\\"\n",
    ")\n",
    "constant_hello = hello.copy()\n",
    "sorted_hello = sorted(hello)\n",
    "# 45p-r=300-t=200"
   ]
  },
  {
   "cell_type": "code",
   "execution_count": 3,
   "metadata": {},
   "outputs": [
    {
     "name": "stdout",
     "output_type": "stream",
     "text": [
      "0.5251310681172384\n",
      "[279, 200]\n",
      "0.4285338376371229\n",
      "[[17  0]\n",
      " [ 3  0]]\n"
     ]
    }
   ],
   "source": [
    "max_s4 = max(hello)\n",
    "for i in max_s4:\n",
    "    print(i)"
   ]
  },
  {
   "cell_type": "code",
   "execution_count": 4,
   "metadata": {},
   "outputs": [
    {
     "name": "stdout",
     "output_type": "stream",
     "text": [
      "(0.5251310681172384, 0.4285338376371229, array([[17,  0],\n",
      "       [ 3,  0]], dtype=int64))\n"
     ]
    },
    {
     "data": {
      "image/png": "[encoded data removed]",
      "text/plain": [
       "<Figure size 640x480 with 2 Axes>"
      ]
     },
     "metadata": {},
     "output_type": "display_data"
    }
   ],
   "source": [
    "cmtr = get_eval.get_rmse_confmtrx(mode= \"train\",\n",
    "                predict_path= \"D:\\\\bi12year3\\intern\\gpu_slaves\\\\bau\\\\\",\n",
    "                anomaly_range= max_s4[1][0],\n",
    "                anomaly_min_time= max_s4[1][1],\n",
    "                select= get_eval.TRUE_VID)\n",
    "\n",
    "print(cmtr)\n",
    "cm_display = ConfusionMatrixDisplay(confusion_matrix = cmtr[2])\n",
    "cm_display.plot()\n",
    "plt.show()"
   ]
  },
  {
   "cell_type": "code",
   "execution_count": 5,
   "metadata": {},
   "outputs": [
    {
     "name": "stdout",
     "output_type": "stream",
     "text": [
      "0.9189189189189189\n"
     ]
    }
   ],
   "source": [
    "cm = cmtr[2]\n",
    "tp,fp = cm[0]\n",
    "fn,tn = cm[1]\n",
    "\n",
    "percision = tp/(tp + fp)\n",
    "recall = tp/(tp + fn)\n",
    "\n",
    "f1 = (2*percision*recall)/(percision + recall)\n",
    "print(f1)"
   ]
  },
  {
   "cell_type": "code",
   "execution_count": 6,
   "metadata": {},
   "outputs": [
    {
     "name": "stdout",
     "output_type": "stream",
     "text": [
      "2\n",
      "Number of anomalies:  2\n",
      "Anomaly 1\n",
      "(9179, [[6, 95, 44, 117], [914, 30], [26819, 894]])\n",
      "Anomaly 2\n",
      "(14067, [[634, 78, 649, 88], [18770, 626], [26819, 894]])\n",
      "9\n",
      "Number of anomalies:  0\n",
      "11\n",
      "Number of anomalies:  1\n",
      "Anomaly 1\n",
      "(32912, [[678, 222, 698, 238], [11790, 393], [26657, 889]])\n",
      "33\n",
      "Number of anomalies:  2\n",
      "Anomaly 1\n",
      "(17857, [[300, 102, 335, 122], [0, 0], [26819, 894]])\n",
      "Anomaly 2\n",
      "(17981, [[620, 45, 637, 59], [996, 33], [26819, 894]])\n",
      "35\n",
      "Number of anomalies:  1\n",
      "Anomaly 1\n",
      "(28871, [[675, 193, 696, 214], [5424, 181], [26645, 888]])\n",
      "49\n",
      "Number of anomalies:  2\n",
      "Anomaly 1\n",
      "(68939, [[709, 131, 735, 150], [13056, 435], [26819, 894]])\n",
      "Anomaly 2\n",
      "(69311, [[428, 159, 468, 189], [19354, 645], [26819, 894]])\n",
      "51\n",
      "Number of anomalies:  1\n",
      "Anomaly 1\n",
      "(76278, [[68, 264, 89, 275], [13418, 447], [26738, 891]])\n",
      "63\n",
      "Number of anomalies:  0\n",
      "72\n",
      "Number of anomalies:  1\n",
      "Anomaly 1\n",
      "(134725, [[688, 101, 722, 132], [2594, 86], [26693, 890]])\n",
      "73\n",
      "Number of anomalies:  1\n",
      "Anomaly 1\n",
      "(139554, [[691, 202, 799, 250], [4720, 157], [26727, 891]])\n",
      "74\n",
      "Number of anomalies:  1\n",
      "Anomaly 1\n",
      "(142972, [[163, 110, 181, 125], [8660, 289], [26771, 892]])\n",
      "83\n",
      "Number of anomalies:  1\n",
      "Anomaly 1\n",
      "(163365, [[478, 131, 509, 163], [16358, 545], [25401, 847]])\n",
      "91\n",
      "Number of anomalies:  1\n",
      "Anomaly 1\n",
      "(181445, [[224, 122, 254, 134], [18118, 604], [27009, 900]])\n",
      "93\n",
      "Number of anomalies:  2\n",
      "Anomaly 1\n",
      "(183710, [[358, 182, 411, 218], [64, 2], [26769, 892]])\n",
      "Anomaly 2\n",
      "(184443, [[0, 367, 100, 407], [3966, 132], [26769, 892]])\n",
      "95\n",
      "Number of anomalies:  1\n",
      "Anomaly 1\n",
      "(190738, [[490, 94, 511, 108], [2000, 67], [26819, 894]])\n",
      "97\n",
      "Number of anomalies:  1\n",
      "Anomaly 1\n",
      "(200687, [[247, 343, 290, 379], [474, 16], [24991, 833]])\n"
     ]
    }
   ],
   "source": [
    "mode = \"train\"\n",
    "for i in get_eval.TRUE_VID:\n",
    "    print(i)\n",
    "    mod.play_ano(i, mode,\n",
    "                 mod.process_ano(vid_no= i, mode= mode,\n",
    "                                 paths= \"D:\\\\bi12year3\\intern\\gpu_slaves\\\\bau\\\\\",\n",
    "                                 anomaly_range= max_s4[1][0],\n",
    "                                 anomaly_min_time= max_s4[1][1]),\n",
    "                 anomaly_range= max_s4[1][0])"
   ]
  }
 ],
 "metadata": {
  "kernelspec": {
   "display_name": "Python 3",
   "language": "python",
   "name": "python3"
  },
  "language_info": {
   "codemirror_mode": {
    "name": "ipython",
    "version": 3
   },
   "file_extension": ".py",
   "mimetype": "text/x-python",
   "name": "python",
   "nbconvert_exporter": "python",
   "pygments_lexer": "ipython3",
   "version": "3.11.5"
  }
 },
 "nbformat": 4,
 "nbformat_minor": 2
}
