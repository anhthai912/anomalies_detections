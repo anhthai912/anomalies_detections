{
 "cells": [
  {
   "cell_type": "code",
   "execution_count": 1,
   "metadata": {},
   "outputs": [],
   "source": [
    "from mod import CONFIG, process_ano, get_ano_info, coor_check, read_anomalies, play_ano\n",
    "from general import PATHS\n",
    "import os\n",
    "import cv2"
   ]
  },
  {
   "cell_type": "code",
   "execution_count": 2,
   "metadata": {},
   "outputs": [],
   "source": [
    "vid_no =33\n",
    "mode = \"train\""
   ]
  },
  {
   "cell_type": "code",
   "execution_count": 3,
   "metadata": {},
   "outputs": [
    {
     "name": "stdout",
     "output_type": "stream",
     "text": [
      "Number of anomalies:  4\n",
      "Anomaly 1\n",
      "(2, [[300, 102, 335, 122], [62, 2], [22463, 749]])\n",
      "Anomaly 2\n",
      "(206, [[641, 32, 656, 45], [2018, 67], [24423, 814]])\n",
      "Anomaly 3\n",
      "(782, [[583, 154, 614, 180], [4820, 161], [26819, 894]])\n",
      "Anomaly 4\n",
      "(2586, [[335, 54, 355, 68], [15660, 522], [26819, 894]])\n"
     ]
    }
   ],
   "source": [
    "play_ano(vid_no, mode, process_ano(vid_no, mode))"
   ]
  },
  {
   "cell_type": "code",
   "execution_count": 4,
   "metadata": {},
   "outputs": [],
   "source": [
    "# sorted_ano = process_ano(vid_no, \"train\")\n",
    "# print(\"Number of anomalies: \", len(lmao3.keys()) )\n",
    "# for i, ano_id in enumerate(lmao3.items()):\n",
    "#     print(f\"Anomaly {i+1}\")\n",
    "#     print(ano_id)"
   ]
  },
  {
   "cell_type": "code",
   "execution_count": 5,
   "metadata": {},
   "outputs": [
    {
     "ename": "IndentationError",
     "evalue": "unexpected indent (3312899692.py, line 2)",
     "output_type": "error",
     "traceback": [
      "\u001b[1;36m  Cell \u001b[1;32mIn[5], line 2\u001b[1;36m\u001b[0m\n\u001b[1;33m    coors, start, end = ano_data\u001b[0m\n\u001b[1;37m    ^\u001b[0m\n\u001b[1;31mIndentationError\u001b[0m\u001b[1;31m:\u001b[0m unexpected indent\n"
     ]
    }
   ],
   "source": [
    "# def display_ano(vid_no, ano_data, mode): \n",
    "    coors, start, end = ano_data\n",
    "\n",
    "    if mode == \"train\":\n",
    "        file_path = PATHS[\"dataset\"] + f'\\\\aic21-track4-train-data\\\\{vid_no}.mp4'\n",
    "    elif mode == \"test\":\n",
    "        file_path = PATHS[\"dataset\"] + f'\\\\aic21-track4-test-data\\\\{vid_no}.mp4'\n",
    "    else:\n",
    "        file_path = None\n",
    "\n",
    "    try:\n",
    "        cap = cv2.VideoCapture(file_path)\n",
    "    except:\n",
    "        print(\"#####################\\nICORRECT MODE\\n**************************\")\n",
    "\n",
    "    x1, x2, y1, y2 = coors\n",
    "    \n",
    "    # Check if camera opened successfully\n",
    "    if (cap.isOpened()== False): \n",
    "        print(\"Error opening video stream or file\")\n",
    "    fps = 30\n",
    "    # Set the starting frame\n",
    "    cap.set(cv2.CAP_PROP_POS_FRAMES, start[0])\n",
    "    # Read until video is completed\n",
    "    while(cap.isOpened()):\n",
    "    # Capture frame-by-frame\n",
    "        ret, frame = cap.read()\n",
    "\n",
    "        current_frame = int(cap.get(cv2.CAP_PROP_POS_FRAMES))\n",
    "        \n",
    "        if current_frame > end[0]:\n",
    "            break\n",
    "\n",
    "        timer = int(round(current_frame/fps, 0))\n",
    "\n",
    "        if ret == True:\n",
    "            # Display the resulting frame\n",
    "            frame = cv2.rectangle(frame, \n",
    "                                pt1=(x1 - CONFIG['anomaly_range'], x2 - CONFIG['anomaly_range']), \n",
    "                                pt2= (y1 + CONFIG['anomaly_range'], y2 + CONFIG['anomaly_range']),  \n",
    "                                color= (0, 0, 255), thickness= 2)\n",
    "            \n",
    "            frame = cv2.putText(frame, f'time: {timer}', \n",
    "                          org= (20, 50), \n",
    "                          fontFace= cv2.FONT_HERSHEY_COMPLEX,\n",
    "                          fontScale= 1, \n",
    "                          color= (0, 255, 0), \n",
    "                          thickness= 1)\n",
    "\n",
    "            cv2.imshow(f'frame{vid_no}',frame)\n",
    "\n",
    "            # Press Q on keyboard to  exit\n",
    "            if cv2.waitKey(25) & 0xFF == ord('q'):\n",
    "                break\n",
    "        \n",
    "        # Break the loop\n",
    "        # else: \n",
    "        #   break\n",
    "    cap.release()\n",
    "\n",
    "    # Closes all the frames\n",
    "    cv2.destroyAllWindows()\n"
   ]
  },
  {
   "cell_type": "code",
   "execution_count": null,
   "metadata": {},
   "outputs": [
    {
     "name": "stdout",
     "output_type": "stream",
     "text": [
      "Number of anomalies:  4\n",
      "Anomaly 1\n",
      "(2, [[300, 102, 335, 122], [62, 2], [22463, 749]])\n",
      "Anomaly 2\n",
      "(206, [[641, 32, 656, 45], [2018, 67], [24423, 814]])\n",
      "Anomaly 3\n",
      "(782, [[583, 154, 614, 180], [4820, 161], [26819, 894]])\n",
      "Anomaly 4\n",
      "(2586, [[335, 54, 355, 68], [15660, 522], [26819, 894]])\n"
     ]
    }
   ],
   "source": [
    "# print(\"Number of anomalies: \", len(sorted_ano.keys()) )\n",
    "# for i, ano_id in enumerate(sorted_ano.items()):\n",
    "#     print(f\"Anomaly {i+1}\")\n",
    "#     print(ano_id)\n",
    "#     display_ano(vid_no, get_ano_info(sorted_ano, ano_id[0]), mode)"
   ]
  },
  {
   "cell_type": "code",
   "execution_count": null,
   "metadata": {},
   "outputs": [],
   "source": [
    "# train_2 = read_anomalies(vid_no, \"train\")\n",
    "# train_2"
   ]
  },
  {
   "cell_type": "code",
   "execution_count": null,
   "metadata": {},
   "outputs": [],
   "source": [
    "# filtered_data = {k: v for k, v in train_2.items() if (v[3][1] - v[2][1]) >= 20}\n",
    "\n",
    "# def merge_similar_coordinates(data):\n",
    "#     # Helper function to check if two coordinate lists are similar\n",
    "#     def are_similar_coords(coords1, coords2, tolerance=5):\n",
    "#         return all(abs(c1 - c2) <= tolerance for c1, c2 in zip(coords1, coords2))\n",
    "\n",
    "#     merged_data = {}\n",
    "#     visited_keys = set()\n",
    "\n",
    "#     for key1, value1 in data.items():\n",
    "#         if key1 in visited_keys:\n",
    "#             continue\n",
    "\n",
    "#         coords1, trash1, start1, end1 = value1\n",
    "#         merged_start, merged_end = start1, end1\n",
    "\n",
    "#         for key2, value2 in data.items():\n",
    "#             if key2 <= key1 or key2 in visited_keys:\n",
    "#                 continue\n",
    "\n",
    "#             coords2, trash2, start2, end2 = value2\n",
    "#             if are_similar_coords(coords1, coords2):\n",
    "#                 merged_start = min(merged_start, start2)\n",
    "#                 merged_end = max(merged_end, end2)\n",
    "#                 visited_keys.add(key2)\n",
    "\n",
    "#         merged_data[key1] = [coords1, merged_start, merged_end]\n",
    "#         visited_keys.add(key1)\n",
    "\n",
    "#     return merged_data\n",
    "# final_data = merge_similar_coordinates(filtered_data)\n",
    "\n",
    "# print(\"Number of anomalies: \", len(final_data.keys()) )\n",
    "# for i, ano_id in enumerate(final_data.items()):\n",
    "#     print(f\"Anomaly {i+1}\")\n",
    "#     print(ano_id)"
   ]
  },
  {
   "cell_type": "code",
   "execution_count": null,
   "metadata": {},
   "outputs": [
    {
     "ename": "IndentationError",
     "evalue": "unexpected indent (3141023849.py, line 2)",
     "output_type": "error",
     "traceback": [
      "\u001b[1;36m  Cell \u001b[1;32mIn[16], line 2\u001b[1;36m\u001b[0m\n\u001b[1;33m    filtered_data = {k: v for k, v in anomalies.items() if (v[3][1] - v[2][1]) >= CONFIG['anomaly_min_time']}\u001b[0m\n\u001b[1;37m    ^\u001b[0m\n\u001b[1;31mIndentationError\u001b[0m\u001b[1;31m:\u001b[0m unexpected indent\n"
     ]
    }
   ],
   "source": [
    "# def new_sort_ano(anomalies: dict):\n",
    "    filtered_data = {k: v for k, v in anomalies.items() if (v[3][1] - v[2][1]) >= CONFIG['anomaly_min_time']}\n",
    "\n",
    "    merged_data = {}\n",
    "    visited_keys = set()\n",
    "\n",
    "    for key1, value1 in filtered_data.items():\n",
    "        if key1 in visited_keys:\n",
    "            continue\n",
    "\n",
    "        coords1, trash1, start1, end1 = value1\n",
    "        merged_start, merged_end = start1, end1\n",
    "\n",
    "        for key2, value2 in filtered_data.items():\n",
    "            if key2 <= key1 or key2 in visited_keys:\n",
    "                continue\n",
    "\n",
    "            coords2, trash2, start2, end2 = value2\n",
    "            if coor_check(coords1, coords2, errors= CONFIG['error'] + CONFIG['anomaly_range']):\n",
    "                merged_start = min(merged_start, start2)\n",
    "                merged_end = max(merged_end, end2)\n",
    "                visited_keys.add(key2)\n",
    "\n",
    "        merged_data[key1] = [coords1, merged_start, merged_end]\n",
    "        visited_keys.add(key1)\n",
    "    \n",
    "    return merged_data"
   ]
  },
  {
   "cell_type": "code",
   "execution_count": null,
   "metadata": {},
   "outputs": [],
   "source": [
    "# def sort_ano(anomailes: dict):\n",
    "    ano = {}\n",
    "    anomailes_cop = anomailes.copy()\n",
    "\n",
    "    for ano_id1 in anomailes.keys():\n",
    "        if ano_id1 in anomailes_cop.keys():\n",
    "            temp = []\n",
    "            coors1 = anomailes[ano_id1][0]\n",
    "            start1 = anomailes[ano_id1][-2]\n",
    "            end1 = anomailes[ano_id1][-1]\n",
    "            if end1[1] - start1[1] >= CONFIG['anomaly_min_time']:\n",
    "                ano[ano_id1] = [coors1, start1, end1]\n",
    "                for ano_id2 in anomailes_cop.keys():\n",
    "                    if ano_id1 == ano_id2:\n",
    "                        pass\n",
    "                    else:\n",
    "                        coors2 = anomailes[ano_id2][0]\n",
    "                        start2 = anomailes[ano_id2][-2]\n",
    "                        end2 = anomailes[ano_id2][-1]\n",
    "\n",
    "                        if coor_check(coors1, coors2, errors= CONFIG[\"error\"] + CONFIG['anomaly_range']):\n",
    "                            ano[ano_id1] = [coors1, start1, end2]\n",
    "                            temp.append(ano_id2)\n",
    "            else:\n",
    "                pass\n",
    "\n",
    "            for i in temp:\n",
    "                anomailes_cop.pop(i)  \n",
    "    return ano"
   ]
  },
  {
   "cell_type": "code",
   "execution_count": null,
   "metadata": {},
   "outputs": [
    {
     "name": "stdout",
     "output_type": "stream",
     "text": [
      "Number of anomalies:  4\n",
      "Anomaly 1\n",
      "(2, [[300, 102, 335, 122], [62, 2], [1931, 64]])\n",
      "Anomaly 2\n",
      "(206, [[641, 32, 656, 45], [2018, 67], [26819, 894]])\n",
      "Anomaly 3\n",
      "(782, [[583, 154, 614, 180], [4820, 161], [26819, 894]])\n",
      "Anomaly 4\n",
      "(2586, [[335, 54, 355, 68], [15660, 522], [26819, 894]])\n"
     ]
    }
   ],
   "source": [
    "# lmao2 = new_sort_ano(train_2)\n",
    "# print(\"Number of anomalies: \", len(lmao2.keys()) )\n",
    "# for i, ano_id in enumerate(lmao2.items()):\n",
    "#     print(f\"Anomaly {i+1}\")\n",
    "#     print(ano_id)"
   ]
  },
  {
   "cell_type": "code",
   "execution_count": null,
   "metadata": {},
   "outputs": [
    {
     "name": "stdout",
     "output_type": "stream",
     "text": [
      "Number of anomalies:  4\n",
      "Anomaly 1\n",
      "(2, [[300, 102, 335, 122], [62, 2], [2695, 90]])\n",
      "Anomaly 2\n",
      "(206, [[641, 32, 656, 45], [2018, 67], [24423, 814]])\n",
      "Anomaly 3\n",
      "(782, [[583, 154, 614, 180], [4820, 161], [26819, 894]])\n",
      "Anomaly 4\n",
      "(2586, [[335, 54, 355, 68], [15660, 522], [26819, 894]])\n"
     ]
    }
   ],
   "source": [
    "# lmao = sort_ano(train_2)\n",
    "# print(\"Number of anomalies: \", len(lmao.keys()) )\n",
    "# for i, ano_id in enumerate(lmao.items()):\n",
    "#     print(f\"Anomaly {i+1}\")\n",
    "#     print(ano_id)"
   ]
  }
 ],
 "metadata": {
  "kernelspec": {
   "display_name": "Python 3",
   "language": "python",
   "name": "python3"
  },
  "language_info": {
   "codemirror_mode": {
    "name": "ipython",
    "version": 3
   },
   "file_extension": ".py",
   "mimetype": "text/x-python",
   "name": "python",
   "nbconvert_exporter": "python",
   "pygments_lexer": "ipython3",
   "version": "3.11.5"
  }
 },
 "nbformat": 4,
 "nbformat_minor": 2
}
