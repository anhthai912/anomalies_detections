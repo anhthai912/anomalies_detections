{
 "cells": [
  {
   "cell_type": "code",
   "execution_count": 3,
   "metadata": {},
   "outputs": [],
   "source": [
    "import sys\n",
    "\n",
    "sys.path.insert(0, 'D:\\\\bi12year3\\intern\\ictlab\\imgonnacrylmao')\n",
    "from mod import PATHS, CONFIG, process_ano, read_anomalies, sort_ano\n",
    "from get_eval import run_weights, TRUE_VID\n",
    "import multithreading\n",
    "import os\n",
    "import matplotlib.pyplot as plt\n",
    "import numpy as np\n",
    "from sklearn.metrics import ConfusionMatrixDisplay"
   ]
  },
  {
   "cell_type": "code",
   "execution_count": 4,
   "metadata": {},
   "outputs": [],
   "source": [
    "iter_range = list(range(1,51))\n",
    "iter_min_time = list(range(1,201))\n",
    "mode = \"train\"\n",
    "# pre_path = \"D:\\\\bi12year3\\intern\\gpu_slaves\\\\bau\\\\\""
   ]
  },
  {
   "cell_type": "code",
   "execution_count": 4,
   "metadata": {},
   "outputs": [
    {
     "name": "stdout",
     "output_type": "stream",
     "text": [
      "[0.5251310681172384, [279, 200], 0.4285338376371229, array([[17,  0],\n",
      "       [ 3,  0]], dtype=int64)]\n"
     ]
    }
   ],
   "source": [
    "# 2m16.7s\n",
    "print(max(run_weights(iter_range, iter_min_time, mode)))"
   ]
  },
  {
   "cell_type": "code",
   "execution_count": 5,
   "metadata": {},
   "outputs": [
    {
     "name": "stdout",
     "output_type": "stream",
     "text": [
      "number of processes:  4\n",
      "[0.5516505055170157, [45, 200], 0.433025869329734, array([[18,  0],\n",
      "       [ 1,  0]], dtype=int64)]\n"
     ]
    }
   ],
   "source": [
    "super_args = [iter_range, iter_min_time]\n",
    "\n",
    "# 59.3, batch_sz = 16\n",
    "# 57.5 batch_sz =32\n",
    "# for i in range(72):\n",
    "\n",
    "# btch = 34, core = 6, 18.8-20s// 23.4s-24s\n",
    "# btch = 50, core = 4, 17.5s\n",
    "result_list = multithreading.threader_post(run_weights, iter_min_time, 1, super_args, mode, 50)\n",
    "\n",
    "print(max(result_list))"
   ]
  }
 ],
 "metadata": {
  "kernelspec": {
   "display_name": "Python 3",
   "language": "python",
   "name": "python3"
  },
  "language_info": {
   "codemirror_mode": {
    "name": "ipython",
    "version": 3
   },
   "file_extension": ".py",
   "mimetype": "text/x-python",
   "name": "python",
   "nbconvert_exporter": "python",
   "pygments_lexer": "ipython3",
   "version": "3.11.5"
  }
 },
 "nbformat": 4,
 "nbformat_minor": 2
}
